{
 "cells": [
  {
   "cell_type": "code",
   "execution_count": 1,
   "id": "7bf611dc",
   "metadata": {},
   "outputs": [
    {
     "name": "stdout",
     "output_type": "stream",
     "text": [
      "Enter the age 19\n",
      "What is your Credit Score: 890\n",
      "What is your Income: 300000\n",
      "Eligible for Loan\n"
     ]
    }
   ],
   "source": [
    "#Question 01 \n",
    "age = int(input(\"Enter the age \"))\n",
    "credit_score = int(input(\"What is your Credit Score: \"))\n",
    "income = int(input(\"What is your Income: \"))\n",
    "\n",
    "if age >= 18:\n",
    "    if credit_score >= 650 and income >= 30000:\n",
    "        print(\"Eligible for Loan\")\n",
    "    elif credit_score >= 700 and income >= 25000:\n",
    "        print(\"Eligible for loan\")\n",
    "    else:\n",
    "        print(\"Not eligible\")\n",
    "else:\n",
    "    print(\" you are underage \")\n"
   ]
  },
  {
   "cell_type": "code",
   "execution_count": 2,
   "id": "53d07d9b",
   "metadata": {},
   "outputs": [
    {
     "name": "stdout",
     "output_type": "stream",
     "text": [
      "What is your age: 20\n",
      "you are an adult\n",
      "What is your Experience: 5\n",
      "you have moderate experience\n"
     ]
    }
   ],
   "source": [
    "#Question 02\n",
    "age = int(input(\"What is your age: \" ))\n",
    "if age >= 18:\n",
    "    print(\"you are an adult\")\n",
    "    experience = int(input(\"What is your Experience: \"))\n",
    "    if experience >= 10:\n",
    "        print(\"you have alot of Experience\")\n",
    "    elif  5 <= experience < 10:\n",
    "        print(\"you have moderate experience\")\n",
    "    elif 2 <= experience < 4:\n",
    "        print(\"you are relatively new\")\n",
    "    else:\n",
    "        print(\"you are just starting out\")\n",
    "else:\n",
    "    print(\"you are underage\")\n",
    "    "
   ]
  },
  {
   "cell_type": "code",
   "execution_count": 5,
   "id": "29cde52b",
   "metadata": {},
   "outputs": [
    {
     "name": "stdout",
     "output_type": "stream",
     "text": [
      "Data type with least memory usage: float\n"
     ]
    }
   ],
   "source": [
    "#Question 03\n",
    "import sys\n",
    "\n",
    "variables = [10, 10.5,  \"hello\", [1,2,3], {'a':1}]\n",
    "memory_sizes = [sys.getsizeof(var) for var in variables]\n",
    "data_types = [type(var).__name__ for var in variables]\n",
    "\n",
    "min_size_index = memory_sizes.index(min(memory_sizes))\n",
    "print(f\"Data type with least memory usage: {data_types[min_size_index]}\")"
   ]
  },
  {
   "cell_type": "code",
   "execution_count": 6,
   "id": "9f79ecc8",
   "metadata": {},
   "outputs": [
    {
     "name": "stdout",
     "output_type": "stream",
     "text": [
      "what is your email: abc@gmail.com\n",
      "Email address is valid\n"
     ]
    }
   ],
   "source": [
    "#Question 04\n",
    "email = input(\"what is your email: \")\n",
    "if '@' in email and '.' in email:\n",
    "    print('Email address is valid')\n",
    "else:\n",
    "    print('email format is not valid')"
   ]
  },
  {
   "cell_type": "code",
   "execution_count": 8,
   "id": "7871a753",
   "metadata": {},
   "outputs": [
    {
     "name": "stdout",
     "output_type": "stream",
     "text": [
      "Data types of tuple elements: ['int', 'float', 'str', 'list', 'tuple']\n"
     ]
    }
   ],
   "source": [
    "#Question 05\n",
    "x = (11, 22.333, 'apple', [1, 2, 3], ('a', 'b'))\n",
    "\n",
    "data_types = []\n",
    "for element in x:\n",
    "    data_types.append(type(element).__name__)\n",
    "\n",
    "print(\"Data types of tuple elements:\", data_types)\n"
   ]
  },
  {
   "cell_type": "code",
   "execution_count": 10,
   "id": "673beda7",
   "metadata": {},
   "outputs": [
    {
     "name": "stdout",
     "output_type": "stream",
     "text": [
      "Enter the username: alice\n",
      "Username exists.\n",
      "The user is an admin.\n"
     ]
    }
   ],
   "source": [
    "#Question 06\n",
    "users = [(\"alice\", \"admin\"), (\"bob\", \"user\"), (\"charlie\", \"moderator\")]\n",
    "username = input(\"Enter the username: \")\n",
    "\n",
    "if any(user[0] == username for user in users):\n",
    "    print(\"Username exists.\")\n",
    "    if (username, \"admin\") in users:\n",
    "        print(\"The user is an admin.\")\n",
    "else:\n",
    "    print(\"Username does not exist.\")\n"
   ]
  },
  {
   "cell_type": "code",
   "execution_count": 12,
   "id": "a5d1df4d",
   "metadata": {},
   "outputs": [
    {
     "name": "stdout",
     "output_type": "stream",
     "text": [
      "No direct relation.\n"
     ]
    }
   ],
   "source": [
    "#Question 07\n",
    "person1 = ['Ali', 'Fatima', 'Peshawar', 123]\n",
    "person2 = ['Ali', 'Fatima', 'Pesahwar', 123]\n",
    "person3 = ['Ali', 'Fatima', 'Lahore', 124]\n",
    "\n",
    "if person1 == person2:\n",
    "    print(\"Relation: Siblings\")\n",
    "elif person1[:-1] == person3[:-1]:\n",
    "    print(\"Relation: Cousin\")\n",
    "else:\n",
    "    print(\"No direct relation.\")\n"
   ]
  },
  {
   "cell_type": "code",
   "execution_count": 13,
   "id": "639f4231",
   "metadata": {},
   "outputs": [
    {
     "name": "stdout",
     "output_type": "stream",
     "text": [
      "what is title of the book: abc\n",
      "who is author of this book: Ali\n",
      "what is year of publication: 2015\n",
      "waht is the price of the book: 600\n",
      "('abc', 'Ali', 2015, 600.0)\n"
     ]
    }
   ],
   "source": [
    "#Question 08\n",
    "title = input(\"what is title of the book: \")\n",
    "auther = input(\"who is author of this book: \")\n",
    "year = int(input(\"what is year of publication: \"))\n",
    "price = float(input(\"waht is the price of the book: \"))\n",
    "book = (title, auther, year, price)\n",
    "print(book)"
   ]
  },
  {
   "cell_type": "code",
   "execution_count": 14,
   "id": "bac3335a",
   "metadata": {},
   "outputs": [
    {
     "name": "stdout",
     "output_type": "stream",
     "text": [
      "what is your subject: Maths\n",
      "subject is avalible\n"
     ]
    }
   ],
   "source": [
    "#Question 09\n",
    "subjects = [\"Maths\",\"Physics\", 'History', 'Mechanics_of_material', 'Supply_chain']\n",
    "subject = input(\"what is your subject: \") \n",
    "if subject in subjects:\n",
    "    print(\"subject is avalible\")\n",
    "else:\n",
    "    print(\"not avaliable\")\n"
   ]
  },
  {
   "cell_type": "code",
   "execution_count": null,
   "id": "1b2442d6",
   "metadata": {},
   "outputs": [],
   "source": [
    "#Question 10\n",
    "numbers = (1, 2, 3, 4, 5, 3, 2, 1)\n",
    "num1 = int(input(\"Enter a number to find its index: \"))\n",
    "if num1 in numbers:\n",
    "    print(f\"First occurrence of {num1} is at index {numbers.index(num1)}.\")\n",
    "else:\n",
    "    print(f\"{num1} is not in the tuple.\")\n",
    "\n",
    "num2 = int(input(\"Enter another number to count its occurrences: \"))\n",
    "print(f\"{num2} appears {numbers.count(num2)} times in the tuple.\")\n",
    "\n"
   ]
  },
  {
   "cell_type": "code",
   "execution_count": null,
   "id": "9c13483e",
   "metadata": {},
   "outputs": [],
   "source": []
  },
  {
   "cell_type": "code",
   "execution_count": null,
   "id": "5516366d",
   "metadata": {},
   "outputs": [],
   "source": []
  },
  {
   "cell_type": "code",
   "execution_count": null,
   "id": "a6cc601a",
   "metadata": {},
   "outputs": [],
   "source": []
  },
  {
   "cell_type": "code",
   "execution_count": null,
   "id": "42d0c8a9",
   "metadata": {},
   "outputs": [],
   "source": []
  },
  {
   "cell_type": "code",
   "execution_count": null,
   "id": "4cb96e2c",
   "metadata": {},
   "outputs": [],
   "source": []
  },
  {
   "cell_type": "code",
   "execution_count": null,
   "id": "4f6c5307",
   "metadata": {},
   "outputs": [],
   "source": []
  }
 ],
 "metadata": {
  "kernelspec": {
   "display_name": "Python 3 (ipykernel)",
   "language": "python",
   "name": "python3"
  },
  "language_info": {
   "codemirror_mode": {
    "name": "ipython",
    "version": 3
   },
   "file_extension": ".py",
   "mimetype": "text/x-python",
   "name": "python",
   "nbconvert_exporter": "python",
   "pygments_lexer": "ipython3",
   "version": "3.10.9"
  }
 },
 "nbformat": 4,
 "nbformat_minor": 5
}
