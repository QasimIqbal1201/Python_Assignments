{
 "cells": [
  {
   "cell_type": "code",
   "execution_count": 1,
   "id": "6411bc11",
   "metadata": {},
   "outputs": [],
   "source": [
    "salries = ['20k', '40k', '50k', '60k', '35k', '89k', '40k']"
   ]
  },
  {
   "cell_type": "code",
   "execution_count": 2,
   "id": "74ed701a",
   "metadata": {},
   "outputs": [
    {
     "data": {
      "text/plain": [
       "['20k', '40k', '50k', '60k', '35k', '89k', '40k']"
      ]
     },
     "execution_count": 2,
     "metadata": {},
     "output_type": "execute_result"
    }
   ],
   "source": [
    "salries"
   ]
  },
  {
   "cell_type": "code",
   "execution_count": 3,
   "id": "9c2ca13d",
   "metadata": {},
   "outputs": [
    {
     "name": "stdout",
     "output_type": "stream",
     "text": [
      "7\n"
     ]
    }
   ],
   "source": [
    "print(len(salries))   #Length of List"
   ]
  },
  {
   "cell_type": "code",
   "execution_count": 4,
   "id": "080bb990",
   "metadata": {},
   "outputs": [
    {
     "data": {
      "text/plain": [
       "'50k'"
      ]
     },
     "execution_count": 4,
     "metadata": {},
     "output_type": "execute_result"
    }
   ],
   "source": [
    "salries[(2)] #Retrive third salary by using index"
   ]
  },
  {
   "cell_type": "code",
   "execution_count": 5,
   "id": "d323983c",
   "metadata": {},
   "outputs": [
    {
     "data": {
      "text/plain": [
       "'40k'"
      ]
     },
     "execution_count": 5,
     "metadata": {},
     "output_type": "execute_result"
    }
   ],
   "source": [
    "salries[(-1)]  #Retrive last salry bu using negative index"
   ]
  },
  {
   "cell_type": "code",
   "execution_count": 9,
   "id": "96cbbda9",
   "metadata": {},
   "outputs": [
    {
     "data": {
      "text/plain": [
       "['50k', '60k', '35k']"
      ]
     },
     "execution_count": 9,
     "metadata": {},
     "output_type": "execute_result"
    }
   ],
   "source": [
    "salries[2:5]    #Slicing of list to get middle three values"
   ]
  },
  {
   "cell_type": "code",
   "execution_count": 10,
   "id": "da6f452f",
   "metadata": {},
   "outputs": [],
   "source": [
    "salries.append('100k')  #Add new value using append fuction"
   ]
  },
  {
   "cell_type": "code",
   "execution_count": 11,
   "id": "ae358a87",
   "metadata": {},
   "outputs": [
    {
     "data": {
      "text/plain": [
       "['20k', '40k', '50k', '60k', '35k', '89k', '40k', '100k']"
      ]
     },
     "execution_count": 11,
     "metadata": {},
     "output_type": "execute_result"
    }
   ],
   "source": [
    "salries"
   ]
  },
  {
   "cell_type": "code",
   "execution_count": 12,
   "id": "a159d68e",
   "metadata": {},
   "outputs": [],
   "source": [
    "salries = salries + ['120k']   #Add new value without Method"
   ]
  },
  {
   "cell_type": "code",
   "execution_count": 13,
   "id": "b3898380",
   "metadata": {},
   "outputs": [
    {
     "data": {
      "text/plain": [
       "['20k', '40k', '50k', '60k', '35k', '89k', '40k', '100k', '120k']"
      ]
     },
     "execution_count": 13,
     "metadata": {},
     "output_type": "execute_result"
    }
   ],
   "source": [
    "salries"
   ]
  },
  {
   "cell_type": "code",
   "execution_count": 14,
   "id": "035ce45f",
   "metadata": {},
   "outputs": [],
   "source": [
    "salries[2] = '55k'  #Replace third salary "
   ]
  },
  {
   "cell_type": "code",
   "execution_count": 15,
   "id": "da0fcc30",
   "metadata": {},
   "outputs": [
    {
     "data": {
      "text/plain": [
       "['20k', '40k', '55k', '60k', '35k', '89k', '40k', '100k', '120k']"
      ]
     },
     "execution_count": 15,
     "metadata": {},
     "output_type": "execute_result"
    }
   ],
   "source": [
    "salries"
   ]
  },
  {
   "cell_type": "code",
   "execution_count": 17,
   "id": "f94daaa3",
   "metadata": {},
   "outputs": [
    {
     "data": {
      "text/plain": [
       "2"
      ]
     },
     "execution_count": 17,
     "metadata": {},
     "output_type": "execute_result"
    }
   ],
   "source": [
    "salries.count('40k')  #Count how many time 40k appears"
   ]
  },
  {
   "cell_type": "code",
   "execution_count": 18,
   "id": "5202cdfa",
   "metadata": {},
   "outputs": [],
   "source": [
    "salries[1] = '79k'   #Insert new value to the second position"
   ]
  },
  {
   "cell_type": "code",
   "execution_count": 19,
   "id": "ae099a1c",
   "metadata": {},
   "outputs": [
    {
     "data": {
      "text/plain": [
       "['20k', '79k', '55k', '60k', '35k', '89k', '40k', '100k', '120k']"
      ]
     },
     "execution_count": 19,
     "metadata": {},
     "output_type": "execute_result"
    }
   ],
   "source": [
    "salries"
   ]
  },
  {
   "cell_type": "code",
   "execution_count": 20,
   "id": "2d252a22",
   "metadata": {},
   "outputs": [],
   "source": [
    "salries.reverse() #Reverse order of salary with method"
   ]
  },
  {
   "cell_type": "code",
   "execution_count": 21,
   "id": "8bb5ff22",
   "metadata": {},
   "outputs": [
    {
     "data": {
      "text/plain": [
       "['120k', '100k', '40k', '89k', '35k', '60k', '55k', '79k', '20k']"
      ]
     },
     "execution_count": 21,
     "metadata": {},
     "output_type": "execute_result"
    }
   ],
   "source": [
    "salries"
   ]
  },
  {
   "cell_type": "code",
   "execution_count": 22,
   "id": "6f0c91a5",
   "metadata": {},
   "outputs": [],
   "source": [
    "reverse_salries = salries[:: -1]  #Reverse order of salary without method"
   ]
  },
  {
   "cell_type": "code",
   "execution_count": 23,
   "id": "8f47e8fe",
   "metadata": {},
   "outputs": [
    {
     "data": {
      "text/plain": [
       "['20k', '79k', '55k', '60k', '35k', '89k', '40k', '100k', '120k']"
      ]
     },
     "execution_count": 23,
     "metadata": {},
     "output_type": "execute_result"
    }
   ],
   "source": [
    "reverse_salries"
   ]
  },
  {
   "cell_type": "code",
   "execution_count": null,
   "id": "9e105e36",
   "metadata": {},
   "outputs": [],
   "source": []
  }
 ],
 "metadata": {
  "kernelspec": {
   "display_name": "Python 3 (ipykernel)",
   "language": "python",
   "name": "python3"
  },
  "language_info": {
   "codemirror_mode": {
    "name": "ipython",
    "version": 3
   },
   "file_extension": ".py",
   "mimetype": "text/x-python",
   "name": "python",
   "nbconvert_exporter": "python",
   "pygments_lexer": "ipython3",
   "version": "3.10.9"
  }
 },
 "nbformat": 4,
 "nbformat_minor": 5
}
