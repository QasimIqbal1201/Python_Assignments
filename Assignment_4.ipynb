{
 "cells": [
  {
   "cell_type": "code",
   "execution_count": 1,
   "id": "5dfc5713",
   "metadata": {},
   "outputs": [
    {
     "name": "stdout",
     "output_type": "stream",
     "text": [
      "(1, 2, 3)\n",
      "[4, 5, 6]\n",
      "('appple', 'banana', 'cherry')\n",
      "[7, 8, 9]\n"
     ]
    }
   ],
   "source": [
    "#Question 01:my_tuple = ( (1, 2, 3), [4, 5, 6], ('aplle', 'banana' 'cherry'), [7, 8, 9] )\n",
    "#Print all elements from my_tuple on a new line (using for loop)\n",
    "#Create a new tuple by concatenating the first and last elements of my_tuple\n",
    "\n",
    "\n",
    "my_tuple = ((1,2,3), [4,5,6], ('appple', \"banana\", 'cherry'), [7,8,9])\n",
    "for i in my_tuple:\n",
    "    print(i)"
   ]
  },
  {
   "cell_type": "code",
   "execution_count": 4,
   "id": "79f38e3c",
   "metadata": {},
   "outputs": [
    {
     "name": "stdout",
     "output_type": "stream",
     "text": [
      "(1, 2, 3, 7, 8, 9)\n"
     ]
    }
   ],
   "source": [
    "#Create a new tuple by concatenating the first and last elements of my_tuple\n",
    "my_tuple = ((1,2,3), [4,5,6], ('appple', \"banana\", 'cherry'), [7,8,9])\n",
    "new_tuple = tuple(my_tuple[0]) + tuple(my_tuple[-1])\n",
    "print(new_tuple)"
   ]
  },
  {
   "cell_type": "code",
   "execution_count": 9,
   "id": "c7c3e226",
   "metadata": {},
   "outputs": [
    {
     "name": "stdout",
     "output_type": "stream",
     "text": [
      "{'The Great Gatsby': {'price': 10.99, 'quantity': 5}, 'Rich dad poor dad': {'price': 8.99, 'quantity': 8}, 'Harry Potter': {'price': 12.5, 'quantity': 2}, 'Rumi': {'price': 50, 'quantity': 8}}\n",
      "dict_keys(['The Great Gatsby', 'Rich dad poor dad', 'Harry Potter', 'Rumi'])\n"
     ]
    }
   ],
   "source": [
    "#Question 2. inventory = { \"The Great Gatsby\": {\"price\": 10.99, \"quantity\": 5}, \"Rich dad poor dad\": {\"price\": 8.99, \"quantity\": 8}, \"Harry Potter\": {\"price\": 12.50, \"quantity\": 2}, } •\n",
    "#Add a new book in inventory using method and get all book titles using method\n",
    "#Remove a book if it's out of stock\n",
    "\n",
    "inventory = { \"The Great Gatsby\": {\"price\": 10.99, \"quantity\": 5}, \"Rich dad poor dad\": {\"price\": 8.99, \"quantity\": 8}, \"Harry Potter\": {\"price\": 12.50, \"quantity\": 2}, }\n",
    "inventory.update({'Rumi': {'price': 50, 'quantity': 8}})\n",
    "print(inventory)\n",
    "print(inventory.keys())\n",
    "\n",
    "\n"
   ]
  },
  {
   "cell_type": "code",
   "execution_count": 11,
   "id": "e1b1eeee",
   "metadata": {},
   "outputs": [
    {
     "data": {
      "text/plain": [
       "('Harry Potter', {'price': 12.5, 'quantity': 2})"
      ]
     },
     "execution_count": 11,
     "metadata": {},
     "output_type": "execute_result"
    }
   ],
   "source": [
    "#Remove a book if it's out of stock\n",
    "inventory = { \"The Great Gatsby\": {\"price\": 10.99, \"quantity\": 5}, \"Rich dad poor dad\": {\"price\": 8.99, \"quantity\": 8}, \"Harry Potter\": {\"price\": 12.50, \"quantity\": 2}, }\n",
    "inventory.popitem()"
   ]
  },
  {
   "cell_type": "code",
   "execution_count": 32,
   "id": "86c02899",
   "metadata": {},
   "outputs": [
    {
     "name": "stdout",
     "output_type": "stream",
     "text": [
      "{101: {'name': 'Laptop', 'category': 'Electronics', 'price': 1200, 'stock': 50}, 102: {'name': 'Shirt', 'category': 'Apparel', 'price': 25, 'stock': 250}, 103: {'name': 'Coffee Maker', 'category': 'Home Appliances', 'price': 80, 'stock': 30}}\n"
     ]
    }
   ],
   "source": [
    "#Q3. An ecommerce store stores information about its products in a nested dictionary. The outer dictionary uses product IDs as keys, and the inner dictionary stores product details like name,category, price, and stock quantity.\n",
    "#products = { 101: {\"name\": \"Laptop\", \"category\": \"Electronics\", \"price\": 1200, \"stock\": 50}, 102: {\"name\": \"Shirt\", \"category\": \"Apparel\", \"price\": 25, \"stock\": 200}, 103: {\"name\": \"Coffee Maker\",\n",
    "#\"category\": \"Home Appliances\", \"price\": 80, \"stock\": 30} }  \n",
    "#Increase the stock of the \"Shirt\" product (add 50 more units) \n",
    "#Add a new product (e.g., \"Smartphone\")\n",
    "\n",
    "products = { 101: {\"name\": \"Laptop\", \"category\": \"Electronics\", \"price\": 1200, \"stock\": 50}, 102: {\"name\": \"Shirt\", \"category\": \"Apparel\", \"price\": 25, \"stock\": 200}, 103: {\"name\": \"Coffee Maker\",\n",
    "\"category\": \"Home Appliances\", \"price\": 80, \"stock\": 30} }  \n",
    "products[102]['stock']  += 50\n",
    "print(products)\n"
   ]
  },
  {
   "cell_type": "code",
   "execution_count": 34,
   "id": "a1a298f6",
   "metadata": {},
   "outputs": [
    {
     "data": {
      "text/plain": [
       "{101: {'name': 'Laptop',\n",
       "  'category': 'Electronics',\n",
       "  'price': 1200,\n",
       "  'stock': 50},\n",
       " 102: {'name': 'Shirt', 'category': 'Apparel', 'price': 25, 'stock': 250},\n",
       " 103: {'name': 'Coffee Maker',\n",
       "  'category': 'Home Appliances',\n",
       "  'price': 80,\n",
       "  'stock': 30},\n",
       " 104: {'name': 'Smartphone',\n",
       "  'catagory': 'Electronics',\n",
       "  'price': 500,\n",
       "  'stock': 15}}"
      ]
     },
     "execution_count": 34,
     "metadata": {},
     "output_type": "execute_result"
    }
   ],
   "source": [
    "#Add a new product (e.g., \"Smartphone\")\n",
    "products.update({104: {'name': 'Smartphone', 'catagory': 'Electronics', 'price':500 , 'stock':15}})\n",
    "products\n"
   ]
  },
  {
   "cell_type": "code",
   "execution_count": 35,
   "id": "35d24786",
   "metadata": {},
   "outputs": [
    {
     "data": {
      "text/plain": [
       "{'apple', 'banana', 'grape', 'orange'}"
      ]
     },
     "execution_count": 35,
     "metadata": {},
     "output_type": "execute_result"
    }
   ],
   "source": [
    "#Question 04 You are given a list that contains some duplicate items. Remove the duplicates by converting the list to a set.\n",
    "#shopping_list = [\"apple\", \"banana\", \"apple\", \"orange\", \"banana\", \"grape\"]\n",
    "\n",
    "shopping_list = [\"apple\", \"banana\", \"apple\", \"orange\", \"banana\", \"grape\"]\n",
    "set(shopping_list)"
   ]
  },
  {
   "cell_type": "code",
   "execution_count": 47,
   "id": "40675e4e",
   "metadata": {},
   "outputs": [
    {
     "name": "stdout",
     "output_type": "stream",
     "text": [
      "650\n"
     ]
    }
   ],
   "source": [
    "#Question 06. Write a Python program that calculates the sum of all even numbers between 1 and 50 (inclusive) using a for loop.\n",
    "#Hint\n",
    "#1. Initialize a variable to hold the sum (e.g., sum_of_evens).\n",
    "#2. Use a for loop to iterate through all numbers from 1 to 50.\n",
    "#3. Inside the loop, check if the number is even.\n",
    "#4. If the number is even, add it to sum_of_evens.\n",
    "#5. After the loop finishes, print the total sum of all even numbers between 1 and 50.\n",
    "even_num = 0\n",
    "for num in range(1, 51):\n",
    "    if num % 2 == 0:\n",
    "        even_num += num\n",
    "print(even_num)\n"
   ]
  },
  {
   "cell_type": "code",
   "execution_count": 54,
   "id": "a5db73dc",
   "metadata": {},
   "outputs": [
    {
     "name": "stdout",
     "output_type": "stream",
     "text": [
      "write down any number from 1 to 10: 4\n",
      "4 * 1 = 4\n",
      "4 * 2 = 8\n",
      "4 * 3 = 12\n",
      "4 * 4 = 16\n",
      "4 * 5 = 20\n",
      "4 * 6 = 24\n",
      "4 * 7 = 28\n",
      "4 * 8 = 32\n",
      "4 * 9 = 36\n",
      "4 * 10 = 40\n"
     ]
    }
   ],
   "source": [
    "#Question 7. Write a Python program that prints the multiplication table for a given number (between 1 and10) using a for loop.\n",
    "#Hint:\n",
    "#1. Ask the user for a number between 1 and 10 .\n",
    "#2. Use a for loop to iterate through the numbers from 1 to 10.\n",
    "#3. For each iteration, calculate the product of the given number and the current number in the loop.\n",
    "#4. Print the result in a readable format (e.g., 5 x 1 = 5).\n",
    "#5. Ensure the program works correctly for any number between 1 and 10.\n",
    "\n",
    "\n",
    "num = int(input(\"write down any number from 1 to 10: \"))\n",
    "if 1 <= num <= 10:\n",
    "    for i in range (1, 11):\n",
    "        print(f'{num} * {i} = {num * i}')\n",
    "else:\n",
    "    print(\"write down the correct number\")\n",
    "    \n"
   ]
  },
  {
   "cell_type": "code",
   "execution_count": 62,
   "id": "20c18db5",
   "metadata": {},
   "outputs": [
    {
     "name": "stdout",
     "output_type": "stream",
     "text": [
      "write down any number 6\n",
      "6**1 = 6\n",
      "6**2 = 36\n",
      "6**3 = 216\n",
      "6**4 = 1296\n",
      "6**5 = 7776\n",
      "6**6 = 46656\n",
      "6**7 = 279936\n",
      "6**8 = 1679616\n",
      "6**9 = 10077696\n",
      "6**10 = 60466176\n",
      "done\n"
     ]
    }
   ],
   "source": [
    "#Question 08 Write a Python program that takes a number and prints the powers of the number (starting from 1 to 10) using a while loop. For example, if the user inputs 3, the output should be:\n",
    "#3^1 = 3\n",
    "#3^2 = 9\n",
    "#3^3 = 27\n",
    "#... up to 3^10.\n",
    "\n",
    "number = int(input('write down any number '))\n",
    "i = 1\n",
    "while i <= 10:\n",
    "    print(f'{number}**{i} = {number ** i}')\n",
    "    i += 1\n",
    "print(\"done\")"
   ]
  },
  {
   "cell_type": "code",
   "execution_count": 64,
   "id": "7828be9a",
   "metadata": {},
   "outputs": [
    {
     "name": "stdout",
     "output_type": "stream",
     "text": [
      "{'John', 'Bob'}\n"
     ]
    }
   ],
   "source": [
    "#Question 05 You are managing a list of students enrolled in two different courses. You need to perform various set operations to understand the student enrollment. Task: Create two sets: one for students in \"Course A\" and one for students in \"Course B\".\n",
    "#Find the students who are in \"Course A\" but not in \"Course B\" (difference). \n",
    "#Find students who are only in one of the two courses (symmetric difference). \n",
    "\n",
    "#course_a = {\"John\", \"Alice\", \"Bob\", \"David\"} \n",
    "#course_b = {\"Alice\", \"Eve\", \"Charlie\",\"David\"} \n",
    "#Find students who are in Course A but not in Course B (difference) \n",
    "#Find students who are only in one of the two courses (symmetric difference)\n",
    "\n",
    "course_a = {\"John\", \"Alice\", \"Bob\", \"David\"}\n",
    "course_b = {\"Alice\", \"Eve\", \"Charlie\",\"David\"}\n",
    "Student_in_a_not_in_b = course_a - course_b\n",
    "print(Student_in_a_not_in_b)\n"
   ]
  },
  {
   "cell_type": "code",
   "execution_count": 65,
   "id": "5ff93a11",
   "metadata": {},
   "outputs": [
    {
     "name": "stdout",
     "output_type": "stream",
     "text": [
      "{'Bob', 'Charlie', 'Eve', 'John'}\n"
     ]
    }
   ],
   "source": [
    "#Find students who are only in one of the two courses (symmetric difference)\n",
    "Student_in_only_one_course = course_a ^ course_b\n",
    "print(Student_in_only_one_course)"
   ]
  },
  {
   "cell_type": "code",
   "execution_count": 68,
   "id": "191daf8a",
   "metadata": {},
   "outputs": [
    {
     "name": "stdout",
     "output_type": "stream",
     "text": [
      "Enter a number 6\n",
      "6\n",
      "5\n",
      "4\n",
      "3\n",
      "2\n",
      "1\n",
      "0\n",
      "Countdown finish\n"
     ]
    }
   ],
   "source": [
    "#Question 09 Problem Statement: Write a Python program that takes an integer input from the user and counts down from that number to 0. The program should display the current number at each step\n",
    "#until it reaches 0, at which point it should print a message indicating the countdown is finishedOutput Hint:\n",
    "#Enter a number to start the countdown: 3\n",
    " #3\n",
    " #2\n",
    " #1\n",
    " #0\n",
    " #Countdown finished!\n",
    "    \n",
    "num =  int(input(\"Enter a number \"))\n",
    "while num >= 0:\n",
    "    print(num)\n",
    "    num -= 1\n",
    "print(\"Countdown finish\")\n",
    "      "
   ]
  },
  {
   "cell_type": "code",
   "execution_count": 70,
   "id": "480833b7",
   "metadata": {},
   "outputs": [
    {
     "name": "stdout",
     "output_type": "stream",
     "text": [
      "Enter a number of rows 5\n",
      " * \n",
      " * * \n",
      " * * * \n",
      " * * * * \n",
      " * * * * * \n"
     ]
    }
   ],
   "source": [
    "#Question 10 Write a Python program that takes an integer input n from the user and generates a rightangled triangle pattern of stars (*) with n rows. The first row should contain 1 star, the second row 2stars, the third row 3 stars, and so on until the nth row.\n",
    "#Ensure the stars in each row are separated by spaces, and each row starts on a new line.\n",
    "# Pattern: \n",
    "#*\n",
    "#**\n",
    "#***\n",
    "#****\n",
    "#*****\n",
    "\n",
    "num = int(input(\"Enter a number of rows \"))\n",
    "for i in range (1, num +1):\n",
    "    print (\"\" * (num - i), \"* \" * i)"
   ]
  },
  {
   "cell_type": "code",
   "execution_count": null,
   "id": "f78b3ace",
   "metadata": {},
   "outputs": [],
   "source": []
  },
  {
   "cell_type": "code",
   "execution_count": null,
   "id": "ed5ef8d2",
   "metadata": {},
   "outputs": [],
   "source": []
  },
  {
   "cell_type": "code",
   "execution_count": null,
   "id": "d9e55ab5",
   "metadata": {},
   "outputs": [],
   "source": []
  },
  {
   "cell_type": "code",
   "execution_count": null,
   "id": "5e35faaf",
   "metadata": {},
   "outputs": [],
   "source": []
  }
 ],
 "metadata": {
  "kernelspec": {
   "display_name": "Python 3 (ipykernel)",
   "language": "python",
   "name": "python3"
  },
  "language_info": {
   "codemirror_mode": {
    "name": "ipython",
    "version": 3
   },
   "file_extension": ".py",
   "mimetype": "text/x-python",
   "name": "python",
   "nbconvert_exporter": "python",
   "pygments_lexer": "ipython3",
   "version": "3.10.9"
  }
 },
 "nbformat": 4,
 "nbformat_minor": 5
}
