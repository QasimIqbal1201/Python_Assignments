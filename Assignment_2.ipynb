{
 "cells": [
  {
   "cell_type": "code",
   "execution_count": 4,
   "id": "aaa4de8b",
   "metadata": {},
   "outputs": [
    {
     "name": "stdout",
     "output_type": "stream",
     "text": [
      "what is your age 55\n",
      "adult\n"
     ]
    }
   ],
   "source": [
    "#Age Group Classification\n",
    "age = int(input('what is your age '))\n",
    "if age > 0 and age <=12:\n",
    "    print('Child')\n",
    "elif age > 12 and age <= 19:\n",
    "    print('Teenage')\n",
    "elif age >19 and age <= 64:\n",
    "    print(\"adult\")\n",
    "else:\n",
    "    print(\"Senior\")"
   ]
  },
  {
   "cell_type": "code",
   "execution_count": 2,
   "id": "66683fc0",
   "metadata": {},
   "outputs": [
    {
     "name": "stdout",
     "output_type": "stream",
     "text": [
      "what is your membership status Premium/regular regular\n",
      "what is your purcahse amount 1800\n",
      "not eligible\n"
     ]
    }
   ],
   "source": [
    "#Checking Eligibility for Discount\n",
    "member_ship_status = input('what is your membership status Premium/regular ')\n",
    "purchase_amount = int(input('what is your purcahse amount '))\n",
    "if member_ship_status == \"Premium\" and purchase_amount > 1000:\n",
    "    print(\"eligibale for dsicount\")\n",
    "elif member_ship_status == \"regular\" and purchase_amount > 2000:\n",
    "    print(\"eligible for discount\")\n",
    "else:\n",
    "    print(\"not eligible\")"
   ]
  },
  {
   "cell_type": "code",
   "execution_count": 5,
   "id": "38e6120d",
   "metadata": {},
   "outputs": [
    {
     "name": "stdout",
     "output_type": "stream",
     "text": [
      "what is your age 19\n",
      "what is your citizenship status citizen/non citizen/ citizen of special region non citizen\n",
      "not eligible\n"
     ]
    }
   ],
   "source": [
    "#Voting Eligibility Checking\n",
    "age = int(input('what is your age '))\n",
    "citizenship_status = input(\"what is your citizenship status citizen/non citizen/ citizen of special region \")\n",
    "if age >= 18 and citizenship_status == \"citizen\":\n",
    "    print(\"Eligible to cast the vote\")\n",
    "elif age >= 16 and  citizenship_status == \"Citizen of special region\":\n",
    "    print(\"Eligible to cast the vote\")\n",
    "else:\n",
    "    print(\"not eligible\")"
   ]
  },
  {
   "cell_type": "code",
   "execution_count": null,
   "id": "28515f77",
   "metadata": {
    "scrolled": true
   },
   "outputs": [],
   "source": []
  },
  {
   "cell_type": "code",
   "execution_count": 12,
   "id": "0798165f",
   "metadata": {},
   "outputs": [
    {
     "name": "stdout",
     "output_type": "stream",
     "text": [
      "what is the perfomrance rating Excellent/ Good/ Satisfactory Excellent\n",
      "write the year of the service  8\n",
      "Eligible for Bonus\n"
     ]
    }
   ],
   "source": [
    "#Employee Salary Bonus Eligibility\n",
    "Employee_performance_rating = input(\"what is the perfomrance rating Excellent/ Good/ Satisfactory \")\n",
    "Year_of_service = int(input(\"write the year of the service  \"))\n",
    "if Employee_performance_rating == \"Excellent\" and  Year_of_service >= 5:\n",
    "    print(\"Eligible for Bonus\")\n",
    "elif Employee_performance_rating == \"Good\" and  Year_of_service >= 10:\n",
    "    print(\"Eligible for Bonus\")\n",
    "elif Employee_performance_rating == \"Satisfactory\" and  Year_of_service >= 15:\n",
    "    print(\"Eligible for Bonus\")\n",
    "else:\n",
    "    print(\"Not Eligible for Bonus\")"
   ]
  },
  {
   "cell_type": "code",
   "execution_count": 38,
   "id": "e4549bd9",
   "metadata": {},
   "outputs": [
    {
     "data": {
      "text/plain": [
       "\"I'm_Learning_Python_Programming\""
      ]
     },
     "execution_count": 38,
     "metadata": {},
     "output_type": "execute_result"
    }
   ],
   "source": [
    "#Question 05\n",
    "text = \"I'm Learning Python Programming\"\n",
    "New_text = text.replace(\" \",\"_\")\n",
    "New_text\n"
   ]
  },
  {
   "cell_type": "code",
   "execution_count": 39,
   "id": "74b14127",
   "metadata": {},
   "outputs": [
    {
     "data": {
      "text/plain": [
       "3"
      ]
     },
     "execution_count": 39,
     "metadata": {},
     "output_type": "execute_result"
    }
   ],
   "source": [
    "position = New_text.find(\"_\")\n",
    "position"
   ]
  },
  {
   "cell_type": "code",
   "execution_count": 13,
   "id": "ce94c988",
   "metadata": {},
   "outputs": [
    {
     "name": "stdout",
     "output_type": "stream",
     "text": [
      "i am an industrial engineer\n"
     ]
    }
   ],
   "source": [
    "#Question 06\n",
    "info = \"i am an industrial engineer\"\n",
    "print(info)"
   ]
  },
  {
   "cell_type": "code",
   "execution_count": 14,
   "id": "f03d495b",
   "metadata": {},
   "outputs": [
    {
     "name": "stdout",
     "output_type": "stream",
     "text": [
      "i am an industrial engin\n"
     ]
    }
   ],
   "source": [
    "x =info[0:-3]\n",
    "print(x)"
   ]
  },
  {
   "cell_type": "code",
   "execution_count": 15,
   "id": "faf8af4d",
   "metadata": {},
   "outputs": [
    {
     "data": {
      "text/plain": [
       "' ma nutilegne'"
      ]
     },
     "execution_count": 15,
     "metadata": {},
     "output_type": "execute_result"
    }
   ],
   "source": [
    "y = info[1::2]\n",
    "y"
   ]
  },
  {
   "cell_type": "code",
   "execution_count": 23,
   "id": "58529dc1",
   "metadata": {},
   "outputs": [
    {
     "data": {
      "text/plain": [
       "'reenigne lairtsudni na ma i'"
      ]
     },
     "execution_count": 23,
     "metadata": {},
     "output_type": "execute_result"
    }
   ],
   "source": [
    "z = info[::-1]\n",
    "z"
   ]
  },
  {
   "cell_type": "code",
   "execution_count": 27,
   "id": "8fc56654",
   "metadata": {},
   "outputs": [
    {
     "data": {
      "text/plain": [
       "'Python learing are We World, Hello'"
      ]
     },
     "execution_count": 27,
     "metadata": {},
     "output_type": "execute_result"
    }
   ],
   "source": [
    "#Question 07\n",
    "text = \"Hello World, We are learing Python\"\n",
    "update_text = \" \".join(text.split()[::-1])\n",
    "update_text"
   ]
  },
  {
   "cell_type": "code",
   "execution_count": 37,
   "id": "27b1d0ac",
   "metadata": {},
   "outputs": [
    {
     "data": {
      "text/plain": [
       "'12345'"
      ]
     },
     "execution_count": 37,
     "metadata": {},
     "output_type": "execute_result"
    }
   ],
   "source": [
    "#Question 08\n",
    "product_code = \"SKU-12345-XYZ\"\n",
    "product_code.replace(\"SKU-\", \"\").replace(\"-XYZ\", \"\")"
   ]
  },
  {
   "cell_type": "code",
   "execution_count": 34,
   "id": "655d21fa",
   "metadata": {},
   "outputs": [
    {
     "data": {
      "text/plain": [
       "['I', 'am', 'doing', 'my', 'Masters', 'in', 'Engineering', 'Management']"
      ]
     },
     "execution_count": 34,
     "metadata": {},
     "output_type": "execute_result"
    }
   ],
   "source": [
    "#Question 10\n",
    "text = \"I am doing my Masters in Engineering Management\"\n",
    "y = text.split()\n",
    "y"
   ]
  },
  {
   "cell_type": "code",
   "execution_count": 36,
   "id": "7590df08",
   "metadata": {},
   "outputs": [
    {
     "data": {
      "text/plain": [
       "'Engineering'"
      ]
     },
     "execution_count": 36,
     "metadata": {},
     "output_type": "execute_result"
    }
   ],
   "source": [
    "z = max(y, key=len)\n",
    "z"
   ]
  },
  {
   "cell_type": "code",
   "execution_count": 38,
   "id": "3bfcdc8f",
   "metadata": {},
   "outputs": [
    {
     "name": "stdout",
     "output_type": "stream",
     "text": [
      "write your pasword My_Qasim\n",
      "has upper case character\n",
      "has lower case character\n",
      "has special charcter\n",
      "has upper case character\n",
      "has lower case character\n",
      "has lower case character\n",
      "has lower case character\n",
      "has lower case character\n"
     ]
    }
   ],
   "source": [
    "#Question 09\n",
    "pasword = input(\"write your pasword \")\n",
    "for char in pasword:\n",
    "    if char.islower():\n",
    "        print(\"has lower case character\")\n",
    "    elif char.isupper():\n",
    "        print(\"has upper case character\")\n",
    "    elif char.isspace():\n",
    "        print('has space')\n",
    "    elif not char.isalnum():\n",
    "        print(\"has special charcter\")\n",
    "    else:\n",
    "        print(\"Wrong pasword\")\n",
    "    "
   ]
  },
  {
   "cell_type": "code",
   "execution_count": null,
   "id": "6f54aa56",
   "metadata": {},
   "outputs": [],
   "source": []
  },
  {
   "cell_type": "code",
   "execution_count": null,
   "id": "09b34636",
   "metadata": {},
   "outputs": [],
   "source": []
  },
  {
   "cell_type": "code",
   "execution_count": null,
   "id": "3af10711",
   "metadata": {},
   "outputs": [],
   "source": []
  },
  {
   "cell_type": "code",
   "execution_count": null,
   "id": "4be95e86",
   "metadata": {},
   "outputs": [],
   "source": []
  }
 ],
 "metadata": {
  "kernelspec": {
   "display_name": "Python 3 (ipykernel)",
   "language": "python",
   "name": "python3"
  },
  "language_info": {
   "codemirror_mode": {
    "name": "ipython",
    "version": 3
   },
   "file_extension": ".py",
   "mimetype": "text/x-python",
   "name": "python",
   "nbconvert_exporter": "python",
   "pygments_lexer": "ipython3",
   "version": "3.10.9"
  }
 },
 "nbformat": 4,
 "nbformat_minor": 5
}
