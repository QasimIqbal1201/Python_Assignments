{
 "cells": [
  {
   "cell_type": "code",
   "execution_count": 2,
   "id": "ec190894",
   "metadata": {},
   "outputs": [
    {
     "data": {
      "text/plain": [
       "7"
      ]
     },
     "execution_count": 2,
     "metadata": {},
     "output_type": "execute_result"
    }
   ],
   "source": [
    "#QUESTION 01:  Write a Python function called add_numbers that takes two numbers as arguments and returns their sum. \n",
    "#Then, test the #function by calling it with two numbers of your choice\n",
    "\n",
    "def add_numbers(a, b):\n",
    "    return a+b\n",
    "add_numbers(5,2)"
   ]
  },
  {
   "cell_type": "code",
   "execution_count": 3,
   "id": "9e79f91c",
   "metadata": {},
   "outputs": [
    {
     "data": {
      "text/plain": [
       "5"
      ]
     },
     "execution_count": 3,
     "metadata": {},
     "output_type": "execute_result"
    }
   ],
   "source": [
    "#QUESTION 02: Write a Python function count_vowels that accepts a string and returns the number of vowels (a, e, i, o, u) in that string.\n",
    "#Example: 'Orange'\n",
    "#Output: 3 vowels\n",
    "\n",
    "def count_vowels(a):\n",
    "    vowels = 'AEIOUaeiou'\n",
    "    return sum(1 for char in a if char in vowels)\n",
    "count_vowels('Aeroplane')"
   ]
  },
  {
   "cell_type": "code",
   "execution_count": 5,
   "id": "9862db66",
   "metadata": {},
   "outputs": [
    {
     "data": {
      "text/plain": [
       "'the amount 5 USD is equal to 1400'"
      ]
     },
     "execution_count": 5,
     "metadata": {},
     "output_type": "execute_result"
    }
   ],
   "source": [
    "#QUESTION 03 Create a Python function called currency_converter() that takes two arguments:\n",
    "#amount: The amount of money to be converted (in USD).\n",
    "#exchange_rate (default is 280): The conversion rate from USD to another currency (e.g., PKR). You can assume the default rate is 1 USD = 280 PKR.\n",
    "#The function should return a message showing how much the given amount is worth in the target currency (PKR).\n",
    "\n",
    "def currency_converter(amount, exchange):\n",
    "    converted_currency = amount*exchange\n",
    "    return f'the amount {amount} USD is equal to {converted_currency}'\n",
    "currency_converter(5, 280)"
   ]
  },
  {
   "cell_type": "code",
   "execution_count": 7,
   "id": "a1736ed5",
   "metadata": {},
   "outputs": [
    {
     "data": {
      "text/plain": [
       "{'name': 'ALi',\n",
       " 'age': 22,\n",
       " 'grade': '5th',\n",
       " 'school': 'The City School Peshawar'}"
      ]
     },
     "execution_count": 7,
     "metadata": {},
     "output_type": "execute_result"
    }
   ],
   "source": [
    "#QUESTION 04 Write a Python function display_student_info that accepts the following details about a student:\n",
    "#name (Keyword argument): The name of the student.\n",
    "#age (Keyword argument): The age of the student.\n",
    "#grade (Keyword argument): The grade the student is in.\n",
    "#school (Keyword argument): The name of the school the student attends.\n",
    "\n",
    "def student_info(**abc):\n",
    "    return abc\n",
    "student_info(name = \"ALi\", age = 22, grade = '5th', school = \"The City School Peshawar\")"
   ]
  },
  {
   "cell_type": "code",
   "execution_count": 10,
   "id": "fbdd51ca",
   "metadata": {},
   "outputs": [
    {
     "data": {
      "text/plain": [
       "250"
      ]
     },
     "execution_count": 10,
     "metadata": {},
     "output_type": "execute_result"
    }
   ],
   "source": [
    "#QUESTION 05 Write a Python function calculate_price that accepts two positional arguments:\n",
    "#price: The price of a single item.\n",
    "#quantity: The number of items bought.\n",
    "#The function should return the total price by multiplying price and quantity.\n",
    "\n",
    "def total_price(price, quantity):\n",
    "    return price * quantity\n",
    "total_price(50, 5)"
   ]
  },
  {
   "cell_type": "code",
   "execution_count": 11,
   "id": "a7c9f2ec",
   "metadata": {},
   "outputs": [
    {
     "name": "stdout",
     "output_type": "stream",
     "text": [
      "product_name: phone\n",
      "Amazon : 500\n",
      "ebay : 450\n",
      "Warmart : 480\n"
     ]
    }
   ],
   "source": [
    "#QUESTION 06 Write a Python function display_prices that takes a product name and an arbitrary number of keyword arguments\n",
    "#representing product prices. The function should display each product and its price.\n",
    "#Product: Laptop\n",
    "#Amazon: $800\n",
    "#eBay: $750\n",
    "#Walmart: $780\n",
    "\n",
    "def display_prices(product_name, **price):\n",
    "    print(f'product_name: {product_name}')\n",
    "    for vendor,price in price.items():\n",
    "        print(f'{vendor} : {price}')\n",
    "display_prices(\"phone\", Amazon = 500, ebay = 450, Warmart = 480)"
   ]
  },
  {
   "cell_type": "code",
   "execution_count": 12,
   "id": "c10ebd9c",
   "metadata": {},
   "outputs": [
    {
     "data": {
      "text/plain": [
       "8"
      ]
     },
     "execution_count": 12,
     "metadata": {},
     "output_type": "execute_result"
    }
   ],
   "source": [
    "#QUESTION 07 Write a Python function find_max that takes any number of numerical arguments and returns the maximum number.\n",
    "\n",
    "def find_max(*number):\n",
    "    return max(number)\n",
    "find_max(2,5,8,7,6,5,3,4)"
   ]
  },
  {
   "cell_type": "code",
   "execution_count": 13,
   "id": "1d105a2d",
   "metadata": {},
   "outputs": [
    {
     "data": {
      "text/plain": [
       "('Abdullah',\n",
       " 21,\n",
       " {'phone': 9231800000, 'address': 'I10 Islamabad', 'email': 'Abdu@gmail.com'})"
      ]
     },
     "execution_count": 13,
     "metadata": {},
     "output_type": "execute_result"
    }
   ],
   "source": [
    "#QUESTION 08 Write a Python function display_info that takes:\n",
    "#Positional arguments for the name and age of a person.\n",
    "#Keyword arguments for other personal details like address, phone number, and email.\n",
    "#Write a Python function display_info that takes:\n",
    "\n",
    "#Name: Alice\n",
    "#Age: 30\n",
    "#Other Details:\n",
    "#address: 123 Main St\n",
    "#phone: 123-456-7890\n",
    "#email: alice@example.com\n",
    "\n",
    "\n",
    "def display_info(name, age, **details):\n",
    "    return (name , age , details)\n",
    "display_info(\"Abdullah\", 21, phone = +9231800000, address = \"I10 Islamabad\", email = \"Abdu@gmail.com\")"
   ]
  },
  {
   "cell_type": "code",
   "execution_count": 24,
   "id": "40cf5e58",
   "metadata": {},
   "outputs": [
    {
     "name": "stdout",
     "output_type": "stream",
     "text": [
      "area: 10\n",
      "perimeter: 16\n"
     ]
    }
   ],
   "source": [
    "#QUESTION 09 Write a Python function calculate_rectangle that accepts the length and width of a rectangle as arguments. \n",
    "#Inside this function, create two nested functions:\n",
    "#calculate_area: This function should calculate the area of the rectangle.\n",
    "#calculate_perimeter: This function should calculate the perimeter of the rectangle.\n",
    "#The main function should return both the area and the perimeter of the rectangle.\n",
    "\n",
    "\n",
    "def calculate_rectangle(length, width):\n",
    "    def calculate_area():\n",
    "        return length * width\n",
    "    def calculate_parimeter():\n",
    "        return 2 * (length+width)\n",
    "    return calculate_area(), calculate_parimeter()\n",
    "area, Perimeter = calculate_rectangle(5,2)\n",
    "print(f\"area: {area}\")\n",
    "print(f\"perimeter: {perimeter}\")"
   ]
  },
  {
   "cell_type": "code",
   "execution_count": 27,
   "id": "5908c237",
   "metadata": {},
   "outputs": [
    {
     "name": "stdout",
     "output_type": "stream",
     "text": [
      "['Laptop', 'Headphones', 'Smartwatch', 'Keyboard']\n"
     ]
    }
   ],
   "source": [
    "#QUESTION 10 products = [ {\"name\": \"Laptop\", \"price\": 1200, \"in_stock\": True, \"discount\": 0.1}, {\"name\": \"Smartphone\", \"price\": 800, \"in_stock\": False, \"discount\": 0.05}, {\"name\": \"Headphones\", \"price\": 150, \"in_stock\": True, \"discount\": 0.2}, {\"name\": \"Smartwatch\", \"price\": 300, \"in_stock\": True, \"discount\": 0}, {\"name\": \"Keyboard\", \"price\": 100, \"in_stock\": True, \"discount\": 0.15} ]\n",
    "#Get names of in-stock products:\n",
    "\n",
    "#*Use list comprehension to generate a list of names for the products that are in stock.\n",
    "\n",
    "#Calculate final prices for in-stock products after discount:\n",
    "\n",
    "#*For products that have a discount, calculate the final price by applying the discount.\n",
    "\n",
    "#*For products with no discount, keep the original price.\n",
    "\n",
    "#Generate a list of tuples with the product name and its final price.\n",
    "\n",
    "#Example Output:\n",
    "\n",
    "#In-stock product names: ['Laptop', 'Headphones', 'Smartwatch', 'Keyboard']\n",
    "#Discounted prices: [('Laptop', 1080.0), ('Headphones', 120.0), ('Smartwatch', 300), ('Keyboard', 85.0)]\n",
    "\n",
    "products = [ {\"name\": \"Laptop\", \"price\": 1200, \"in_stock\": True, \"discount\": 0.1}, {\"name\": \"Smartphone\", \"price\": 800, \"in_stock\": False, \"discount\": 0.05}, {\"name\": \"Headphones\", \"price\": 150, \"in_stock\": True, \"discount\": 0.2}, {\"name\": \"Smartwatch\", \"price\": 300, \"in_stock\": True, \"discount\": 0}, {\"name\": \"Keyboard\", \"price\": 100, \"in_stock\": True, \"discount\": 0.15} ]\n",
    "#*Use list comprehension to generate a list of names for the products that are in stock.\n",
    "names = [x[\"name\"] for x in products if x[\"in_stock\"] == True]\n",
    "print(names)"
   ]
  },
  {
   "cell_type": "code",
   "execution_count": 30,
   "id": "a76f54d3",
   "metadata": {},
   "outputs": [
    {
     "name": "stdout",
     "output_type": "stream",
     "text": [
      "[['Laptop', 1080.0], ['Headphones', 120.0], ['Smartwatch', 300], ['Keyboard', 85.0]]\n"
     ]
    }
   ],
   "source": [
    "##Calculate final prices for in-stock products after discount:\n",
    "products = [ {\"name\": \"Laptop\", \"price\": 1200, \"in_stock\": True, \"discount\": 0.1}, {\"name\": \"Smartphone\", \"price\": 800, \"in_stock\": False, \"discount\": 0.05}, {\"name\": \"Headphones\", \"price\": 150, \"in_stock\": True, \"discount\": 0.2}, {\"name\": \"Smartwatch\", \"price\": 300, \"in_stock\": True, \"discount\": 0}, {\"name\": \"Keyboard\", \"price\": 100, \"in_stock\": True, \"discount\": 0.15} ]\n",
    "\n",
    "final_prices = [[x['name'], x['price'] * (1-x['discount'])] for x in products if x[\"in_stock\"]]\n",
    "print(final_prices)"
   ]
  }
 ],
 "metadata": {
  "kernelspec": {
   "display_name": "Python 3 (ipykernel)",
   "language": "python",
   "name": "python3"
  },
  "language_info": {
   "codemirror_mode": {
    "name": "ipython",
    "version": 3
   },
   "file_extension": ".py",
   "mimetype": "text/x-python",
   "name": "python",
   "nbconvert_exporter": "python",
   "pygments_lexer": "ipython3",
   "version": "3.10.9"
  }
 },
 "nbformat": 4,
 "nbformat_minor": 5
}
