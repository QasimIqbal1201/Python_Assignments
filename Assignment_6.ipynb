{
 "cells": [
  {
   "cell_type": "code",
   "execution_count": 6,
   "id": "df8e23bf",
   "metadata": {},
   "outputs": [],
   "source": [
    "#Question 1: In a transportation system, we have two classes:\n",
    "#ElectricVehicle: A class that has a method charge() to charge the vehicle.\n",
    "#GasolineVehicle: A class that has a method fuel_up() to refuel the vehicle.\n",
    "#Create a class HybridCar that inherits from both ElectricVehicle and GasolineVehicle. The HybridCar class should have \n",
    "#a method drive() that prints a message showing the car is being driven. Instantiate an object of class\n",
    "#HybridCar and demonstrate the usage of charge(), fuel_up(), and drive().\n",
    "#Expected Output:\n",
    "# Charging the electric vehicle.\n",
    "# Filling up the gasoline tank.\n",
    "# Driving the hybrid car.\n",
    "\n",
    "\n",
    "\n",
    "class ElectricVehicle:\n",
    "    def charge(self):\n",
    "        return \"The car is charging\"\n",
    "\n",
    "class GasolineVehicle:\n",
    "    def fuel_up(self):\n",
    "        return \"the car is getting the fuel\"\n",
    "\n",
    "class HybridVehicle(ElectricVehicle,GasolineVehicle):\n",
    "    def drive(self):\n",
    "        return \"the car is being driven\"\n"
   ]
  },
  {
   "cell_type": "code",
   "execution_count": 11,
   "id": "e86b89be",
   "metadata": {},
   "outputs": [],
   "source": [
    "hybrid = HybridVehicle()"
   ]
  },
  {
   "cell_type": "code",
   "execution_count": 12,
   "id": "4596cc46",
   "metadata": {},
   "outputs": [
    {
     "data": {
      "text/plain": [
       "'The car is charging'"
      ]
     },
     "execution_count": 12,
     "metadata": {},
     "output_type": "execute_result"
    }
   ],
   "source": [
    "hybrid.charge()"
   ]
  },
  {
   "cell_type": "code",
   "execution_count": 14,
   "id": "120f7b84",
   "metadata": {},
   "outputs": [
    {
     "data": {
      "text/plain": [
       "'the car is getting the fuel'"
      ]
     },
     "execution_count": 14,
     "metadata": {},
     "output_type": "execute_result"
    }
   ],
   "source": [
    "hybrid.fuel_up()"
   ]
  },
  {
   "cell_type": "code",
   "execution_count": 15,
   "id": "1a9120c7",
   "metadata": {},
   "outputs": [
    {
     "data": {
      "text/plain": [
       "'the car is being driven'"
      ]
     },
     "execution_count": 15,
     "metadata": {},
     "output_type": "execute_result"
    }
   ],
   "source": [
    "hybrid.drive()"
   ]
  },
  {
   "cell_type": "code",
   "execution_count": 32,
   "id": "d0e9880a",
   "metadata": {},
   "outputs": [],
   "source": [
    "#Question 2: Create a class Animal with a method make_sound(), which prints &quot;Animal makes a sound&quot;. Then,\n",
    "#create two subclasses:\n",
    "# Lion: Override the make_sound() method to print &quot;Roar&quot;.\n",
    "# Cat: Override the make_sound() method to print &quot;Meow&quot;.\n",
    "# Demonstrate polymorphism by calling make_sound() on instances of Lion and Cat.\n",
    "\n",
    "\n",
    "class Animal:\n",
    "    def make_sound(self):\n",
    "        return 'Animal_make_sounds'\n",
    "\n",
    "class lion(Animal):\n",
    "    def make_sound(self):\n",
    "        animal_sound =  super().make_sound()\n",
    "        return f'{animal_sound} and  Lion_make_Roar'\n",
    "\n",
    "class cat(Animal):\n",
    "    def make_sound(self):\n",
    "        animal_sound = super().make_sound()\n",
    "        return f' {animal_sound} and cat_make_Meow' "
   ]
  },
  {
   "cell_type": "code",
   "execution_count": 33,
   "id": "f46006d8",
   "metadata": {},
   "outputs": [],
   "source": [
    "animal = Animal()\n"
   ]
  },
  {
   "cell_type": "code",
   "execution_count": 34,
   "id": "cb49b706",
   "metadata": {},
   "outputs": [
    {
     "data": {
      "text/plain": [
       "'Animal_make_sounds'"
      ]
     },
     "execution_count": 34,
     "metadata": {},
     "output_type": "execute_result"
    }
   ],
   "source": [
    "animal.make_sound()"
   ]
  },
  {
   "cell_type": "code",
   "execution_count": 35,
   "id": "5e896c28",
   "metadata": {},
   "outputs": [],
   "source": [
    "LION = lion()"
   ]
  },
  {
   "cell_type": "code",
   "execution_count": 36,
   "id": "7d0ced95",
   "metadata": {},
   "outputs": [
    {
     "data": {
      "text/plain": [
       "'Animal_make_sounds and  Lion_make_Roar'"
      ]
     },
     "execution_count": 36,
     "metadata": {},
     "output_type": "execute_result"
    }
   ],
   "source": [
    "LION.make_sound()"
   ]
  },
  {
   "cell_type": "code",
   "execution_count": 37,
   "id": "e2458d4c",
   "metadata": {},
   "outputs": [],
   "source": [
    "CAT = cat()"
   ]
  },
  {
   "cell_type": "code",
   "execution_count": 38,
   "id": "a2066187",
   "metadata": {},
   "outputs": [
    {
     "data": {
      "text/plain": [
       "' Animal_make_sounds and cat_make_Meow'"
      ]
     },
     "execution_count": 38,
     "metadata": {},
     "output_type": "execute_result"
    }
   ],
   "source": [
    "CAT.make_sound()"
   ]
  },
  {
   "cell_type": "code",
   "execution_count": 40,
   "id": "4c7899a9",
   "metadata": {},
   "outputs": [
    {
     "name": "stdout",
     "output_type": "stream",
     "text": [
      "Turning on the light\n",
      "Light is on\n",
      "Turning off the light\n",
      "Light is off\n"
     ]
    }
   ],
   "source": [
    "#Question 3: Create an abstract class SmartHomeDevice with two abstract methods:\n",
    "#turn_on() (to turn the device on)\n",
    "# turn_off() (to turn the device off)\n",
    "#Then, create a Light class that inherits from SmartHomeDevice. Implement the methods turn_on() and turn_off() for a light device. The turn_on() method should print &quot;Light is ON&quot;, and the turn_off()\n",
    "#method should print &quot;Light is OFF&quot;.\n",
    "#Write a Python program to control the light device in a smart home.\n",
    "#Expected Output:\n",
    "# Turning on the light...\n",
    "# Light is ON\n",
    "# Turning off the light...\n",
    "# Light is OFF\n",
    "\n",
    "from abc import ABC, abstractmethod\n",
    "class SmartHomeDevice(ABC):\n",
    "    @abstractmethod\n",
    "    \n",
    "    def turn_on(self):\n",
    "        pass\n",
    "    \n",
    "    def turn_off(self):\n",
    "        pass\n",
    "    \n",
    "class light(SmartHomeDevice):\n",
    "    def turn_on(self):\n",
    "        print(\"Light is on\")\n",
    "    \n",
    "    def turn_off(self):\n",
    "        print(\"Light is off\")\n",
    "    \n",
    "Light = light()\n",
    "print(\"Turning on the light\")\n",
    "Light.turn_on()\n",
    "print(\"Turning off the light\")\n",
    "Light.turn_off()"
   ]
  },
  {
   "cell_type": "code",
   "execution_count": 49,
   "id": "0c2284d1",
   "metadata": {},
   "outputs": [
    {
     "name": "stdout",
     "output_type": "stream",
     "text": [
      "Hello!\n",
      "Hello, Qasim!\n",
      "Good morning, Qasim!\n"
     ]
    }
   ],
   "source": [
    "#Question 4: Create a class Greeting with a method greet() that can handle different numbers of arguments.\n",
    "# If no argument is passed, it should print &quot;Hello!&quot;.\n",
    "# If one argument (a name) is passed, it should print &quot;Hello, !&quot;.\n",
    "# If two arguments (a name and a greeting) are passed, it should print the greeting with the name (e.g., &quot;Good morning, !&quot;).\n",
    "#Simulate method overloading using default arguments or variable-length arguments, and\n",
    "#demonstrate the polymorphic behavior by calling greet() with different numbers of arguments.\n",
    "#Expected Output:\n",
    "# Hello!\n",
    "# Hello, John!\n",
    "# Good morning, John!\n",
    "\n",
    "\n",
    "class Greeting:\n",
    "    def greet(self, name=None, greeting=\"Hello\"):\n",
    "        if name is None:\n",
    "            print(\"Hello!\")\n",
    "        else:\n",
    "            print(f\"{greeting}, {name}!\")\n",
    "obj = Greeting()\n",
    "obj.greet()\n",
    "obj.greet(\"Qasim\")\n",
    "obj.greet(\"Qasim\", \"Good morning\")\n"
   ]
  },
  {
   "cell_type": "code",
   "execution_count": 56,
   "id": "37f42fcb",
   "metadata": {},
   "outputs": [
    {
     "name": "stdout",
     "output_type": "stream",
     "text": [
      "Car Name: Toyota Camry\n",
      "Price Per Day: $50\n",
      "Rental Days: 5\n",
      "Total Rental Cost: $250\n"
     ]
    }
   ],
   "source": [
    "#Create a class CarRental to manage the rental of cars. The class should have private attributes for the car&#39;s name, price per day, and the number of\n",
    "#rental days. Create a method to calculate the total rental cost and a method to set the rental days.\n",
    "# Use getter and setter methods for modifying and accessing the car&#39;s information.\n",
    "#Demonstrate encapsulation by creating an object of CarRental and calculating the total rental cost.\n",
    "#Expected Output:\n",
    "# Car Name: Toyota Camry\n",
    "# Price Per Day: $50\n",
    "# Rental Days: 5\n",
    "# Total Rental Cost: $250\n",
    "\n",
    "\n",
    "class CarRental:\n",
    "    def __init__(self, name, price_per_day):\n",
    "        self.__name = name\n",
    "        self.__price_per_day = price_per_day\n",
    "        self.__Rental_days = 0\n",
    "        \n",
    "    def getname(self):\n",
    "        return self.__name\n",
    "    \n",
    "    def setname(self, name):\n",
    "        self.__name = name\n",
    "    \n",
    "    def getprice(self):\n",
    "        return self.__price_per_day\n",
    "    \n",
    "    def setprice(self, price_per_day):\n",
    "        self.__price_per_day = price_per_day\n",
    "    \n",
    "    def getRentalDays(self):\n",
    "        return self.__Rental_days\n",
    "    \n",
    "    def setRentalDays(self, Rental_days):\n",
    "        self.__Rental_days = Rental_days\n",
    "    \n",
    "    def Calulate_total_cost(self):  \n",
    "        return self.__price_per_day * self.__Rental_days \n",
    "\n",
    "\n",
    "car = CarRental(\"Toyota Camry\", 50)\n",
    "car.setRentalDays(5)\n",
    "print(f\"Car Name: {car.getname()}\")\n",
    "print(f\"Price Per Day: ${car.getprice()}\")\n",
    "print(f\"Rental Days: {car.getRentalDays()}\")\n",
    "print(f\"Total Rental Cost: ${car.Calulate_total_cost()}\")\n",
    "\n",
    "    "
   ]
  },
  {
   "cell_type": "code",
   "execution_count": null,
   "id": "a14ef715",
   "metadata": {},
   "outputs": [],
   "source": []
  },
  {
   "cell_type": "code",
   "execution_count": null,
   "id": "454cff2b",
   "metadata": {},
   "outputs": [],
   "source": []
  },
  {
   "cell_type": "code",
   "execution_count": null,
   "id": "1fe3b513",
   "metadata": {},
   "outputs": [],
   "source": []
  }
 ],
 "metadata": {
  "kernelspec": {
   "display_name": "Python 3 (ipykernel)",
   "language": "python",
   "name": "python3"
  },
  "language_info": {
   "codemirror_mode": {
    "name": "ipython",
    "version": 3
   },
   "file_extension": ".py",
   "mimetype": "text/x-python",
   "name": "python",
   "nbconvert_exporter": "python",
   "pygments_lexer": "ipython3",
   "version": "3.10.9"
  }
 },
 "nbformat": 4,
 "nbformat_minor": 5
}
